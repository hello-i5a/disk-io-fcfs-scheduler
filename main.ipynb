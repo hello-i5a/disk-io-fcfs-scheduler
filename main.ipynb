{
 "cells": [
  {
   "cell_type": "code",
   "execution_count": 1,
   "metadata": {},
   "outputs": [
    {
     "name": "stdout",
     "output_type": "stream",
     "text": [
      "\n",
      "Order of track access:  [46, 56, 276, 48, 236, 338, 112]\n",
      "Total head movement:  1184\n"
     ]
    }
   ],
   "source": [
    "class DiskArm:\n",
    "    def __init__(self, initial_position):\n",
    "        self.current_position = initial_position\n",
    "        self.total_head_movement = 0\n",
    "\n",
    "    def move_to(self, target_track):\n",
    "        # Calculate the movement from the current position to the target track\n",
    "        movement = abs(self.current_position - target_track)\n",
    "        self.total_head_movement += movement\n",
    "        self.current_position = target_track\n",
    "        return movement\n",
    "\n",
    "\n",
    "def process_requests(initial_position, requests):\n",
    "    # Create a DiskArm object with the initial position\n",
    "    disk_arm = DiskArm(initial_position)\n",
    "    \n",
    "    # Store the order of tracks accessed\n",
    "    tracks_accessed = []\n",
    "    \n",
    "    # Process each request in the order they are received\n",
    "    for request in requests:\n",
    "        movement = disk_arm.move_to(request)\n",
    "        tracks_accessed.append(request)\n",
    "    \n",
    "    # Return the total head movement and the tracks accessed\n",
    "    return disk_arm.total_head_movement, tracks_accessed\n",
    "\n",
    "\n",
    "def main():\n",
    "    # Input initial disk arm position\n",
    "    initial_position = int(input(\"Enter the initial position of the disk arm: \"))\n",
    "    \n",
    "    # Input track requests\n",
    "    requests = list(map(int, input(\"Enter the track requests (separated by spaces): \").split()))\n",
    "    \n",
    "    # Process the requests\n",
    "    total_head_movement, tracks_accessed = process_requests(initial_position, requests)\n",
    "    \n",
    "    # Display results\n",
    "    print(\"\\nOrder of track access: \", tracks_accessed)\n",
    "    print(\"Total head movement: \", total_head_movement)\n",
    "\n",
    "\n",
    "if __name__ == \"__main__\":\n",
    "    main()\n"
   ]
  }
 ],
 "metadata": {
  "kernelspec": {
   "display_name": "dl",
   "language": "python",
   "name": "python3"
  },
  "language_info": {
   "codemirror_mode": {
    "name": "ipython",
    "version": 3
   },
   "file_extension": ".py",
   "mimetype": "text/x-python",
   "name": "python",
   "nbconvert_exporter": "python",
   "pygments_lexer": "ipython3",
   "version": "3.9.18"
  }
 },
 "nbformat": 4,
 "nbformat_minor": 2
}
